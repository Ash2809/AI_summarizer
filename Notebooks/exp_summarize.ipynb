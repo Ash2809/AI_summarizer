{
 "cells": [
  {
   "cell_type": "code",
   "execution_count": 364,
   "metadata": {},
   "outputs": [],
   "source": [
    "from langchain.text_splitter import RecursiveCharacterTextSplitter\n",
    "from langchain.document_loaders import PyPDFLoader,DirectoryLoader\n",
    "from langchain_google_genai import ChatGoogleGenerativeAI, GoogleGenerativeAIEmbeddings\n",
    "from langchain_astradb import AstraDBVectorStore\n",
    "from langchain_core.prompts import ChatPromptTemplate\n",
    "from langchain.pydantic_v1 import BaseModel, Field\n",
    "from langchain_core.output_parsers import StrOutputParser\n",
    "from langchain import hub\n",
    "from langchain.schema import Document\n",
    "from langgraph.graph import START, StateGraph, END\n",
    "from typing import Literal, List\n",
    "from typing_extensions import TypedDict\n",
    "from dotenv import load_dotenv\n",
    "from PIL import Image\n",
    "import json\n",
    "# from IPython.display import Image\n",
    "import easyocr\n",
    "import os"
   ]
  },
  {
   "cell_type": "code",
   "execution_count": 6,
   "metadata": {},
   "outputs": [
    {
     "data": {
      "text/plain": [
       "genai.GenerativeModel(\n",
       "    model_name='models/gemini-1.5-flash',\n",
       "    generation_config={},\n",
       "    safety_settings={},\n",
       "    tools=None,\n",
       "    system_instruction=None,\n",
       "    cached_content=None\n",
       ")"
      ]
     },
     "execution_count": 6,
     "metadata": {},
     "output_type": "execute_result"
    }
   ],
   "source": [
    "load_dotenv()\n",
    "\n",
    "GOOGLE_API_KEY = os.getenv(\"GOOGLE_API_KEY\")\n",
    "genai.configure(api_key = os.getenv(\"GOOGLE_API_KEY'\"))\n",
    "model = genai.GenerativeModel(\"gemini-1.5-flash\")\n",
    "model"
   ]
  },
  {
   "cell_type": "code",
   "execution_count": 196,
   "metadata": {},
   "outputs": [
    {
     "name": "stderr",
     "output_type": "stream",
     "text": [
      "Neither CUDA nor MPS are available - defaulting to CPU. Note: This module is much faster with a GPU.\n",
      "c:\\a\\envs\\hack\\lib\\site-packages\\easyocr\\detection.py:78: FutureWarning: You are using `torch.load` with `weights_only=False` (the current default value), which uses the default pickle module implicitly. It is possible to construct malicious pickle data which will execute arbitrary code during unpickling (See https://github.com/pytorch/pytorch/blob/main/SECURITY.md#untrusted-models for more details). In a future release, the default value for `weights_only` will be flipped to `True`. This limits the functions that could be executed during unpickling. Arbitrary objects will no longer be allowed to be loaded via this mode unless they are explicitly allowlisted by the user via `torch.serialization.add_safe_globals`. We recommend you start setting `weights_only=True` for any use case where you don't have full control of the loaded file. Please open an issue on GitHub for any issues related to this experimental feature.\n",
      "  net.load_state_dict(copyStateDict(torch.load(trained_model, map_location=device)))\n",
      "c:\\a\\envs\\hack\\lib\\site-packages\\easyocr\\recognition.py:169: FutureWarning: You are using `torch.load` with `weights_only=False` (the current default value), which uses the default pickle module implicitly. It is possible to construct malicious pickle data which will execute arbitrary code during unpickling (See https://github.com/pytorch/pytorch/blob/main/SECURITY.md#untrusted-models for more details). In a future release, the default value for `weights_only` will be flipped to `True`. This limits the functions that could be executed during unpickling. Arbitrary objects will no longer be allowed to be loaded via this mode unless they are explicitly allowlisted by the user via `torch.serialization.add_safe_globals`. We recommend you start setting `weights_only=True` for any use case where you don't have full control of the loaded file. Please open an issue on GitHub for any issues related to this experimental feature.\n",
      "  state_dict = torch.load(model_path, map_location=device)\n"
     ]
    }
   ],
   "source": [
    "import easyocr\n",
    "\n",
    "# Initialize the EasyOCR reader\n",
    "reader = easyocr.Reader(['en'])\n",
    "\n",
    "# Perform OCR on the image\n",
    "result = reader.readtext(r\"C:\\Users\\aashutosh kumar\\OneDrive\\Pictures\\WhatsApp Image 2024-08-29 at 18.24.59_e668341d.jpg\")\n",
    "\n",
    "# Store detections in a response variable\n",
    "response = [detection[1] for detection in result]\n",
    "\n",
    "# Convert the response list to a single string\n",
    "response_text = '\\n'.join(response)  # Join with newline or use ' ' for space"
   ]
  },
  {
   "cell_type": "code",
   "execution_count": 144,
   "metadata": {},
   "outputs": [],
   "source": [
    "llm = ChatGoogleGenerativeAI(api_key = GOOGLE_API_KEY, model = \"gemini-1.5-flash\",temperature = 0.1)"
   ]
  },
  {
   "cell_type": "code",
   "execution_count": 197,
   "metadata": {},
   "outputs": [],
   "source": [
    "R = llm.invoke(f\"You are being provided a medical report correct this grammatically{response_text} Note: Do not add anything extra. Just return the report as it is.\").content"
   ]
  },
  {
   "cell_type": "code",
   "execution_count": 198,
   "metadata": {},
   "outputs": [
    {
     "data": {
      "text/plain": [
       "'## LAULHATU\\n## REGIONAL MEDICAL LABORATORY SPLA\\n\\n**Patient Name:** TEST, DAVIDI\\n**Case #:** D-08-0013908\\n**DOB/Age/Sex:** 1/1/1951 57 years Male\\n**Collected:** 2129/2008 12.01.00 PM\\n**MRN:** 545454545\\n**Received:** 2129/2008 12.01.00 PM\\n**Client Name:** TEST CLIENT CLIENT TEST%\\n**Deliver to:** 12345678910, TEST DOCTOR\\n**Provider:** DOC TEST1 MD\\n1923 5 UTICA\\n**Consulting:** TULSA, OK 74104\\n\\n## SURGICAL PATHOLOGY REPORT\\n\\n**Diagnosis**\\nSkin\\nchest, punch biopsy\\nGrover\\'s disease\\nTest, Pathologist Pathologist\\n(Electronic Signature)\\nPT\\n02/29/2008\\n\\n**Microscopic Examination**\\nare focal areas of suprabasal clefting and\\nfew acantholytic cells are seen.  There is villous formation and\\nindividual dyskeratotic cells are present in the upper layers of the epidermis\\nCorps ronds and grains are present:\\nGrover\\'s disease is favored.\\n\\n**Gross Examination**\\nPunch biopsy of skin: chest\\nSize: 0.4 x 0.\\ncm\\nExcision depth: 0.6 cm\\nSpecimen is bisected and entirely submitted in one cassette for microscopic examination:\\nPT IPT\\n\\n**Specimen**\\nFrom chest\\n\\n**Pertinent History**\\nGrover\\'s disease vs. other\\nTest naromad at 0ne cts\\n\\n**Soui Uuca**\\n3500 SE Frank Phillips Bld\\n1900 N 14\" Stect\\n131w:\\nSle103\\nJ Rockelellez Drve\\nTTOigacatons\\nTuisa, 0K 74104\\nBanlesrue OK 74016\\nPonca Ciy OK 74601\\nStillwater, Ok 74074\\nMuskogee; Ok 74401\\nPhone: (918)744-2553\\nPhore (918331-775\\nPhont:: (580) 765 6513\\nPhone: (405} 372-0759\\nPhane: (91ai 6442141\\nFax: (918) 744-3327\\n(918) 331-1850\\nFar: (580) 762-5719\\nFax (405) 372-0733\\n(918) 684-2223\\nuate Pnnted\\n3171673\\nThere \\n69,\\n7/18rou8 \\n'"
      ]
     },
     "execution_count": 198,
     "metadata": {},
     "output_type": "execute_result"
    }
   ],
   "source": [
    "R"
   ]
  },
  {
   "cell_type": "code",
   "execution_count": 353,
   "metadata": {},
   "outputs": [],
   "source": [
    "class GraphState(TypedDict):\n",
    "    report : str\n",
    "    generation : str    \n",
    "    summary : str\n",
    "    anamoly : str\n",
    "    root_cause : str\n",
    "    path : str\n",
    "    "
   ]
  },
  {
   "cell_type": "code",
   "execution_count": 354,
   "metadata": {},
   "outputs": [],
   "source": [
    "def ocr(state):\n",
    "    # report = state[\"report\"]\n",
    "    path = state[\"path\"]\n",
    "    reader = easyocr.Reader(['en'])\n",
    "    result = reader.readtext(path)\n",
    "    response = [detection[1] for detection in result]\n",
    "    response_text = '\\n'.join(response)\n",
    "    print(\"HI\")\n",
    "    return {\"report\" : response_text}"
   ]
  },
  {
   "cell_type": "code",
   "execution_count": 355,
   "metadata": {},
   "outputs": [],
   "source": [
    "def report(state):\n",
    "    report = state[\"report\"]\n",
    "    # generation = state[\"generation\"]\n",
    "\n",
    "    response = llm.invoke(f\"You are being provided a medical report correct this grammatically{report} Note: Do not add anything extra. Just return the report as it is.\").content\n",
    "    print(\"INSIDE REPORT\")\n",
    "    return {\"generation\" : response}"
   ]
  },
  {
   "cell_type": "code",
   "execution_count": 356,
   "metadata": {},
   "outputs": [],
   "source": [
    "def generate_summary(state):\n",
    "    generation = state[\"generation\"]\n",
    "    # summary = state[\"summary\"]\n",
    "\n",
    "    response = llm.invoke(f\"\"\"You are an Expert in Evaluating medical Reports.You are given the report, \n",
    "                          Based on the report Devise a comprehensive of the report in not more than 100 words.\n",
    "                          report {generation}\"\"\").content\n",
    "    print(\"INSIDE SUMMARY\")\n",
    "    print(response)\n",
    "    \n",
    "    return {\"summary\" : response}"
   ]
  },
  {
   "cell_type": "code",
   "execution_count": 357,
   "metadata": {},
   "outputs": [],
   "source": [
    "def anamoly_detection(state):#this is an edge\n",
    "    summary = state[\"summary\"]\n",
    "\n",
    "    class Route_Anamoly(BaseModel):\n",
    "        Binary_Score: str = Field(..., description=\"Does this report contain abnormal values? Yes or No\")\n",
    "\n",
    "    structured_llm = llm.with_structured_output(Route_Anamoly)\n",
    "\n",
    "    system = \"\"\"\n",
    "    You are provided with a summary of a medical report containing various measurements and observations. \n",
    "    Your task is to identify any abnormal values or measurements. A value is considered abnormal if it is described as \"elevated,\" \"low,\" \"absent,\" or if it falls outside the reference range.\n",
    "    If any abnormal values are found, respond with 'Yes'. If no abnormal values are found, or if the summary lacks numerical data, respond with 'No'.\n",
    "    \"\"\"\n",
    "\n",
    "    binary_prompt = ChatPromptTemplate.from_messages(\n",
    "        [\n",
    "            (\"system\", system),\n",
    "            (\"human\", \"report:{report}\")\n",
    "        ]\n",
    "    )\n",
    "\n",
    "    grader_chain = binary_prompt | structured_llm\n",
    "\n",
    "    llm_response = grader_chain.invoke({\"report\": summary})\n",
    "    print(\"Detecting anamoly\")\n",
    "    if llm_response.Binary_Score == \"Yes\":\n",
    "        return \"Anamoly\"\n",
    "    else:\n",
    "        return \"Normal\"\n"
   ]
  },
  {
   "cell_type": "code",
   "execution_count": 358,
   "metadata": {},
   "outputs": [],
   "source": [
    "def value_extractor(state):\n",
    "    summary = state[\"summary\"]\n",
    "\n",
    "    system = \"\"\"\n",
    "    You are given a medical report summary that includes various measurements and observations. \n",
    "    Your task is to identify and extract all values or measurements that are described as abnormal. \n",
    "    A value is considered abnormal if it is described as \"elevated,\" \"low,\" \"absent,\" or if it is outside the reference range.\n",
    "    Return the abnormal values along with the associated measurement.\n",
    "    If no abnormal values are found, respond with 'None'.\n",
    "    \"\"\"\n",
    "    print(\"hey\")\n",
    "    extraction_prompt = ChatPromptTemplate.from_messages(\n",
    "        [\n",
    "            (\"system\", system),\n",
    "            (\"human\", f\"summary: {summary}\")\n",
    "        ]\n",
    "    )\n",
    "\n",
    "    chain = extraction_prompt | llm\n",
    "    extracted_values = chain.invoke({summary : summary})  # Invoke with an empty dict or any necessary input\n",
    "    extracted_values = extracted_values.content\n",
    "    print(\"Hio\")\n",
    "    print(extracted_values)\n",
    "    return {\"anamoly\": extracted_values}\n"
   ]
  },
  {
   "cell_type": "code",
   "execution_count": 359,
   "metadata": {},
   "outputs": [],
   "source": [
    "def root_cause(state):#THIS IS A NODE\n",
    "    anamoly = state[\"anamoly\"]\n",
    "    # root_cause = state[\"root_cause\"]\n",
    "\n",
    "    response = llm.invoke(f\"From the given extracted values find out the root causes.NOTE: Only find out root cause and nothing else. Values{anamoly}\")\n",
    "    response = response.content\n",
    "\n",
    "    print(response)\n",
    "    return {\"root_cause\" : response}"
   ]
  },
  {
   "cell_type": "code",
   "execution_count": 360,
   "metadata": {},
   "outputs": [],
   "source": [
    "def root_cause_1(state):\n",
    "    anamoly = state[\"anamoly\"]\n",
    "    # root_cause = state[\"root_cause\"]\n",
    "\n",
    "    response_1 = llm.invoke(f\"From the given extracted values find out the root causes.NOTE: Only find out root cause and nothing else. Values{anamoly}\")\n",
    "    response_1 = response_1.content\n",
    "\n",
    "    print(response_1)\n",
    "    return {\"root_cause\" : response_1}"
   ]
  },
  {
   "cell_type": "code",
   "execution_count": 361,
   "metadata": {},
   "outputs": [],
   "source": [
    "workflow = StateGraph(GraphState)\n",
    "\n",
    "workflow.add_node(\"ocr_node\", ocr)\n",
    "workflow.add_node(\"report_node\", report)\n",
    "workflow.add_node(\"generate_summary_node\", generate_summary)\n",
    "workflow.add_node(\"value_extractor_node\", value_extractor)\n",
    "workflow.add_node(\"root_cause_node\", root_cause)\n",
    "workflow.add_node(\"root_cause_1_node\", root_cause_1)\n",
    "\n",
    "workflow.add_edge(START, \"ocr_node\")\n",
    "workflow.add_edge(\"ocr_node\", \"report_node\")\n",
    "workflow.add_edge(\"report_node\", \"generate_summary_node\")\n",
    "workflow.add_edge(\"generate_summary_node\",END)\n",
    "\n",
    "workflow.add_conditional_edges(\"generate_summary_node\", anamoly_detection,{\n",
    "    \"Anamoly\" : \"value_extractor_node\",\n",
    "    \"Normal\": \"root_cause_1_node\"\n",
    "})\n",
    "\n",
    "workflow.add_edge(\"root_cause_1_node\", END)\n",
    "\n",
    "workflow.add_edge(\"value_extractor_node\", \"root_cause_node\")\n",
    "workflow.add_edge(\"root_cause_node\", END)\n",
    "\n",
    "app = workflow.compile()"
   ]
  },
  {
   "cell_type": "code",
   "execution_count": 362,
   "metadata": {},
   "outputs": [
    {
     "data": {
      "image/jpeg": "[encoded data removed]",
      "text/plain": [
       "<IPython.core.display.Image object>"
      ]
     },
     "metadata": {},
     "output_type": "display_data"
    }
   ],
   "source": [
    "from IPython.display import Image, display\n",
    "\n",
    "try:\n",
    "    display(Image(app.get_graph().draw_mermaid_png()))\n",
    "except Exception:\n",
    "    pass"
   ]
  },
  {
   "cell_type": "code",
   "execution_count": 363,
   "metadata": {},
   "outputs": [
    {
     "name": "stderr",
     "output_type": "stream",
     "text": [
      "Neither CUDA nor MPS are available - defaulting to CPU. Note: This module is much faster with a GPU.\n"
     ]
    },
    {
     "name": "stderr",
     "output_type": "stream",
     "text": [
      "c:\\a\\envs\\hack\\lib\\site-packages\\easyocr\\detection.py:78: FutureWarning: You are using `torch.load` with `weights_only=False` (the current default value), which uses the default pickle module implicitly. It is possible to construct malicious pickle data which will execute arbitrary code during unpickling (See https://github.com/pytorch/pytorch/blob/main/SECURITY.md#untrusted-models for more details). In a future release, the default value for `weights_only` will be flipped to `True`. This limits the functions that could be executed during unpickling. Arbitrary objects will no longer be allowed to be loaded via this mode unless they are explicitly allowlisted by the user via `torch.serialization.add_safe_globals`. We recommend you start setting `weights_only=True` for any use case where you don't have full control of the loaded file. Please open an issue on GitHub for any issues related to this experimental feature.\n",
      "  net.load_state_dict(copyStateDict(torch.load(trained_model, map_location=device)))\n",
      "c:\\a\\envs\\hack\\lib\\site-packages\\easyocr\\recognition.py:169: FutureWarning: You are using `torch.load` with `weights_only=False` (the current default value), which uses the default pickle module implicitly. It is possible to construct malicious pickle data which will execute arbitrary code during unpickling (See https://github.com/pytorch/pytorch/blob/main/SECURITY.md#untrusted-models for more details). In a future release, the default value for `weights_only` will be flipped to `True`. This limits the functions that could be executed during unpickling. Arbitrary objects will no longer be allowed to be loaded via this mode unless they are explicitly allowlisted by the user via `torch.serialization.add_safe_globals`. We recommend you start setting `weights_only=True` for any use case where you don't have full control of the loaded file. Please open an issue on GitHub for any issues related to this experimental feature.\n",
      "  state_dict = torch.load(model_path, map_location=device)\n"
     ]
    },
    {
     "name": "stdout",
     "output_type": "stream",
     "text": [
      "HI\n",
      "\"Node 'ocr_node':\"\n",
      "'\\n---\\n'\n",
      "INSIDE REPORT\n",
      "\"Node 'report_node':\"\n",
      "'\\n---\\n'\n",
      "INSIDE SUMMARY\n",
      "The report details a punch biopsy of skin from the chest of Davidi Test, a 57-year-old male, revealing features consistent with Grover's disease. The microscopic examination showed suprabasal clefting, acantholytic cells, villous formation, dyskeratotic cells, corps ronds, and grains, supporting the diagnosis. The patient's history included a consideration of Grover's disease versus other possibilities. \n",
      "\n",
      "Detecting anamoly\n",
      "\"Node 'generate_summary_node':\"\n",
      "'\\n---\\n'\n",
      "Grover's disease \n",
      "\n",
      "\"Node 'root_cause_1_node':\"\n",
      "'\\n---\\n'\n"
     ]
    }
   ],
   "source": [
    "from pprint import pprint\n",
    "inputs = {\n",
    "    \"path\": r\"C:\\Users\\aashutosh kumar\\OneDrive\\Pictures\\WhatsApp Image 2024-08-29 at 18.24.59_e668341d.jpg\"\n",
    "}\n",
    "for output in app.stream(inputs):\n",
    "    for key, value in output.items():\n",
    "        pprint(f\"Node '{key}':\")\n",
    "    pprint(\"\\n---\\n\")\n",
    "\n",
    "# Final generation\n",
    "# pprint(value[\"generation\"])"
   ]
  },
  {
   "cell_type": "markdown",
   "metadata": {},
   "source": [
    "#CHUTIYAPA"
   ]
  },
  {
   "cell_type": "code",
   "execution_count": 199,
   "metadata": {},
   "outputs": [],
   "source": [
    "sum_response = llm.invoke(f\"\"\"You are an Expert in Evaluating medical Reports.You are given the report, \n",
    "                          Based on the report Devise a comprehensive of the report in not more than 100 words.\n",
    "                          report {R}\"\"\").content"
   ]
  },
  {
   "cell_type": "code",
   "execution_count": 200,
   "metadata": {},
   "outputs": [
    {
     "name": "stdout",
     "output_type": "stream",
     "text": [
      "The report details a punch biopsy of skin from the chest of Davidi Test, a 57-year-old male. The microscopic examination revealed features consistent with Grover's disease, a benign skin condition characterized by suprabasal clefting, acantholytic cells, and dyskeratotic cells. The report was generated by Test, Pathologist, on February 29, 2008. \n",
      "\n"
     ]
    }
   ],
   "source": [
    "print(sum_response)"
   ]
  },
  {
   "cell_type": "code",
   "execution_count": 330,
   "metadata": {},
   "outputs": [
    {
     "name": "stdout",
     "output_type": "stream",
     "text": [
      "None \n",
      "\n"
     ]
    }
   ],
   "source": [
    "summary_ = sum_response\n",
    "system = \"\"\"\n",
    "    You are given a medical report summary that includes various measurements and observations. \n",
    "    Your task is to identify and extract all values or measurements that are described as abnormal. \n",
    "    A value is considered abnormal if it is described as \"elevated,\" \"low,\" \"absent,\" or if it is outside the reference range.\n",
    "    Return the abnormal values along with the associated measurement.\n",
    "    If no abnormal values are found, respond with 'None'.\n",
    "    \"\"\"\n",
    "extraction_prompt = ChatPromptTemplate.from_messages(\n",
    "    [\n",
    "        (\"system\", system),\n",
    "        (\"human\", f\"summary: {summary_}\")]\n",
    "    )\n",
    "chain = extraction_prompt | llm\n",
    "extracted_values = chain.invoke({summary : summary_})\n",
    "extracted_values = extracted_values.content\n",
    "\n",
    "print(extracted_values)"
   ]
  },
  {
   "cell_type": "code",
   "execution_count": 194,
   "metadata": {},
   "outputs": [
    {
     "data": {
      "text/plain": [
       "'This cerebrospinal fluid (CSF) analysis report from Smart Pathology Lab shows elevated protein levels (30.80 mg/dl) in a 21-year-old male patient, while chloride levels are slightly lower than the reference range. The CSF is clear and colorless with no blood or organisms detected.  The microscopic examination reveals a total cell count of 5500 with the presence of polymorphs, but no lymphocytes or red blood cells.  The AFB and Gram stains were negative. \\n'"
      ]
     },
     "execution_count": 194,
     "metadata": {},
     "output_type": "execute_result"
    }
   ],
   "source": [
    "summary"
   ]
  },
  {
   "cell_type": "code",
   "execution_count": 150,
   "metadata": {},
   "outputs": [
    {
     "name": "stdout",
     "output_type": "stream",
     "text": [
      "Please provide me with the extracted values so I can determine the root causes. I need the actual data to analyze and identify the root causes. \n",
      "\n"
     ]
    }
   ],
   "source": [
    "print(llm.invoke(f\"From the given extracted values find out the root causes.NOTE: Only find out root cause and nothing else. Values{extracted_values}\").content)"
   ]
  },
  {
   "cell_type": "code",
   "execution_count": 201,
   "metadata": {},
   "outputs": [
    {
     "data": {
      "text/plain": [
       "'No'"
      ]
     },
     "execution_count": 201,
     "metadata": {},
     "output_type": "execute_result"
    }
   ],
   "source": [
    "summary = sum_response\n",
    "\n",
    "class Route_Anamoly(BaseModel):\n",
    "    Binary_Score: str = Field(..., description=\"Does this report contain abnormal values? Yes or No\")\n",
    "\n",
    "structured_llm = llm.with_structured_output(Route_Anamoly)\n",
    "\n",
    "system = \"\"\"\n",
    "You are provided with a summary of a medical report containing various measurements and observations. \n",
    "Your task is to identify any abnormal values or measurements. A value is considered abnormal if it is described as \"elevated,\" \"low,\" \"absent,\" or if it falls outside the reference range.\n",
    "If any abnormal values are found, respond with 'Yes'. If no abnormal values are found, or if the summary lacks numerical data, respond with 'No'.\n",
    "\"\"\"\n",
    "\n",
    "\n",
    "\n",
    "binary_prompt = ChatPromptTemplate.from_messages(\n",
    "        [\n",
    "            (\"system\", system),\n",
    "            (\"human\", \"report:{summary}\")\n",
    "        ]\n",
    ")\n",
    "\n",
    "grader_chain = binary_prompt | structured_llm\n",
    "\n",
    "llm_response = grader_chain.invoke({\"summary\": summary})\n",
    "\n",
    "llm_response.Binary_Score"
   ]
  },
  {
   "cell_type": "code",
   "execution_count": 206,
   "metadata": {},
   "outputs": [
    {
     "name": "stdout",
     "output_type": "stream",
     "text": [
      "Grover's disease \n",
      "\n"
     ]
    }
   ],
   "source": [
    "system_message = \"\"\"\n",
    "You are provided with a medical report summary. Your task is to extract only the root causes mentioned in the summary. \n",
    "Do not include any additional information or details. Provide just the root causes.\n",
    "\"\"\"\n",
    "\n",
    "prompt = f\"{system_message}\\nsummary: {sum_response}\"\n",
    "\n",
    "response = llm.invoke(prompt)\n",
    "print(response.content)\n"
   ]
  },
  {
   "cell_type": "code",
   "execution_count": null,
   "metadata": {},
   "outputs": [],
   "source": []
  }
 ],
 "metadata": {
  "kernelspec": {
   "display_name": "hack",
   "language": "python",
   "name": "python3"
  },
  "language_info": {
   "codemirror_mode": {
    "name": "ipython",
    "version": 3
   },
   "file_extension": ".py",
   "mimetype": "text/x-python",
   "name": "python",
   "nbconvert_exporter": "python",
   "pygments_lexer": "ipython3",
   "version": "3.10.14"
  }
 },
 "nbformat": 4,
 "nbformat_minor": 2
}
